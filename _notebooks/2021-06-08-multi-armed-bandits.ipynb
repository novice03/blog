{
 "cells": [
  {
   "cell_type": "markdown",
   "metadata": {},
   "source": [
    "# The Multi-armed bandit problem\n",
    "> Implementation of epsilon greedy method on 10 arm bandit test bed\n",
    "\n",
    "- badges: false\n",
    "- categories: reinforcement-learning"
   ]
  },
  {
   "cell_type": "markdown",
   "metadata": {},
   "source": [
    "The multi-arm bandit problem is a classic problem in reinforcement learning in which:\n",
    "\n",
    "* an action is taken only in one situation (_non-associative_). \n",
    "* An agent must choose from _k_ options. \n",
    "* Each chosen action (option) gives a reward from a probability distribution specific to that option.\n",
    "* The _goal_ is to maximize the expected total reward over multiple action selections (time steps)."
   ]
  },
  {
   "cell_type": "code",
   "execution_count": 1,
   "metadata": {},
   "outputs": [],
   "source": [
    "import numpy\n",
    "import matplotlib.pyplot as plt"
   ]
  },
  {
   "cell_type": "code",
   "execution_count": 2,
   "metadata": {},
   "outputs": [
    {
     "name": "stdout",
     "output_type": "stream",
     "text": [
      "[ 1.35907129  1.27053183  1.57603042  0.29655815  0.790779    0.71492175\n",
      "  1.27051479  0.67333983 -0.46795548  0.38030642]\n"
     ]
    }
   ],
   "source": [
    "k = 10\n",
    "# The average reward for each of the options. Used as mean in p.d. while choosing reward.\n",
    "action_values = numpy.random.randn(k) \n",
    "print(action_values)\n",
    "steps = 500\n",
    "rewards = []"
   ]
  },
  {
   "cell_type": "code",
   "execution_count": 3,
   "metadata": {},
   "outputs": [],
   "source": [
    "def reward(action): # generates random reward for a specific action\n",
    "    mu, var = action_values[action - 1] ,1\n",
    "    return numpy.random.normal(mu, var, 1)"
   ]
  },
  {
   "cell_type": "markdown",
   "metadata": {},
   "source": [
    "The value of an action (expected reward when the action is selected) is denoted by \n",
    "\n",
    "$ q_*(a) = \\mathbb{E}[\\ R_t | A_t = a\\ ]$\n",
    "\n",
    "The action values are stored in the action_values array. It is assumed that these values are not known, but can be estimated with some certainty. We use these estimates to choose actions. Such methods for estimating action values and using these values to influence actions are called action-value methods. \n",
    "\n",
    "One way to estimate the action value is to calculate the mean of rewards earned for that action until the current time step. The approximation \n",
    "\n",
    "$ Q_t(a) = \\frac{\\text{sum of rewards earned when action } a \\text{ taken prior to }t}{\\text{number of times a taken prior to }t}$ \n",
    "\n",
    "would converge to the action values as the number of time steps approches infinity."
   ]
  },
  {
   "cell_type": "code",
   "execution_count": 4,
   "metadata": {},
   "outputs": [
    {
     "name": "stdout",
     "output_type": "stream",
     "text": [
      "[[0. 0. 0. 0. 0. 0. 0. 0. 0. 0.]\n",
      " [0. 0. 0. 0. 0. 0. 0. 0. 0. 0.]]\n"
     ]
    }
   ],
   "source": [
    "predicted_action_values = numpy.zeros((2, k))\n",
    "print(predicted_action_values)"
   ]
  },
  {
   "cell_type": "code",
   "execution_count": 5,
   "metadata": {},
   "outputs": [],
   "source": [
    "def update_predicted_action_values(action, reward):\n",
    "    action_index = action - 1\n",
    "    current_prediction = predicted_action_values[0][action_index]\n",
    "    times_chosen = predicted_action_values[1][action_index]\n",
    "    \n",
    "    updated_prediction = (current_prediction * times_chosen + reward) / (times_chosen + 1)\n",
    "    updated_times_chosen = times_chosen + 1\n",
    "    \n",
    "    predicted_action_values[0][action_index] = updated_prediction\n",
    "    predicted_action_values[1][action_index] = updated_times_chosen"
   ]
  },
  {
   "cell_type": "markdown",
   "metadata": {},
   "source": [
    "## Epsilon greedy actions\n",
    "\n",
    "One approach to the problem is to always choose an action that maximizes $Q_t(a)$. Such greedy actions do not explore seemingly low reward actions for high rewards. Therefore, with a random probability of $\\epsilon$, an action can be chosen randomly."
   ]
  },
  {
   "cell_type": "code",
   "execution_count": 6,
   "metadata": {},
   "outputs": [],
   "source": [
    "def choose_best_action(action_values):\n",
    "    return numpy.argmax(action_values[0]) + 1\n",
    "\n",
    "def choose_random_action(action_values):\n",
    "    return int(numpy.where(action_values[0] == numpy.random.choice(action_values[0], 1))[0][0]) + 1"
   ]
  },
  {
   "cell_type": "code",
   "execution_count": 7,
   "metadata": {},
   "outputs": [],
   "source": [
    "def choose_action(action_values, eps):\n",
    "    t = [0, 1]\n",
    "    choice = numpy.random.choice(t, size = 1, p = [eps, 1 - eps])\n",
    "    \n",
    "    if choice == 0:\n",
    "        return choose_random_action(action_values)\n",
    "    else:\n",
    "        return choose_best_action(action_values)"
   ]
  },
  {
   "cell_type": "code",
   "execution_count": 8,
   "metadata": {},
   "outputs": [],
   "source": [
    "def time_step(action_values, eps):\n",
    "    chosen_action = choose_action(action_values, eps)\n",
    "    current_reward = reward(chosen_action)\n",
    "    update_predicted_action_values(chosen_action, current_reward)\n",
    "    \n",
    "    return current_reward"
   ]
  },
  {
   "cell_type": "code",
   "execution_count": 9,
   "metadata": {},
   "outputs": [],
   "source": [
    "rewards = []\n",
    "mean_rewards = []\n",
    "approximation_error = []\n",
    "\n",
    "for step in range(steps):\n",
    "    reward_gained = time_step(predicted_action_values, eps = 0.1)\n",
    "    rewards.append(reward_gained)\n",
    "    mean_rewards.append(numpy.mean(rewards))\n",
    "    approximation_error.append(numpy.absolute(numpy.sum(\n",
    "        numpy.absolute(predicted_action_values)[0] - numpy.absolute(action_values))))"
   ]
  },
  {
   "cell_type": "markdown",
   "metadata": {},
   "source": [
    "Plotting mean reward and approximation error. "
   ]
  },
  {
   "cell_type": "code",
   "execution_count": 10,
   "metadata": {},
   "outputs": [
    {
     "data": {
      "text/plain": [
       "[<matplotlib.lines.Line2D at 0x2dd7d35cca0>]"
      ]
     },
     "execution_count": 10,
     "metadata": {},
     "output_type": "execute_result"
    },
    {
     "data": {
      "image/png": "[encoded data removed]",
      "text/plain": [
       "<Figure size 432x288 with 1 Axes>"
      ]
     },
     "metadata": {
      "needs_background": "light"
     },
     "output_type": "display_data"
    }
   ],
   "source": [
    "plt.plot(range(steps), mean_rewards)\n",
    "plt.plot(range(steps), approximation_error)"
   ]
  },
  {
   "cell_type": "code",
   "execution_count": 11,
   "metadata": {},
   "outputs": [
    {
     "name": "stdout",
     "output_type": "stream",
     "text": [
      "1.576030415965944\n"
     ]
    }
   ],
   "source": [
    "print(numpy.max(action_values))"
   ]
  },
  {
   "cell_type": "markdown",
   "metadata": {},
   "source": [
    "The average reward gained over all the time steps converges to the highest action value. As the number of steps increases, the action with the highest value is chosen everytime unless a random action is chosen."
   ]
  }
 ],
 "metadata": {
  "kernelspec": {
   "display_name": "Python 3",
   "language": "python",
   "name": "python3"
  },
  "language_info": {
   "codemirror_mode": {
    "name": "ipython",
    "version": 3
   },
   "file_extension": ".py",
   "mimetype": "text/x-python",
   "name": "python",
   "nbconvert_exporter": "python",
   "pygments_lexer": "ipython3",
   "version": "3.8.5"
  }
 },
 "nbformat": 4,
 "nbformat_minor": 4
}
